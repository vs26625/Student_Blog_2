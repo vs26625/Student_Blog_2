{
 "cells": [
  {
   "cell_type": "raw",
   "metadata": {},
   "source": [
    "---\n",
    "toc: true\n",
    "comments: true\n",
    "layout: post\n",
    "title: jQuery | P3\n",
    "description: Our lesson on jQuery and CRUD!\n",
    "type: collab\n",
    "courses: { csa: {week: 15} }\n",
    "authors: Tay, Emaad, Justin, Theo, Ethan T, Finn\n",
    "---"
   ]
  },
  {
   "cell_type": "markdown",
   "metadata": {},
   "source": [
    "# What is jQuery?\n",
    "\n",
    "Essentially, jQuery is a library that allows us to use some of JavaScript's built in functions"
   ]
  },
  {
   "cell_type": "markdown",
   "metadata": {},
   "source": [
    "## Benefits of jQuery\n",
    "\n",
    "Benefits of jQuery include:\n",
    "\n",
    "- Makes it easier for us to write JavaScript and HTML code\n",
    "- Very flexible in terms of which browsers it can work on\n",
    "- Simplifies some of the most common JavaScript functions into fewer lines of code\n",
    "\n",
    "**Question:** What are some real life applications of jQuery? Name at least two you can think of. \n",
    "- Web pages, used to make dropdown menus appear smoothly\n",
    "- Simplifies implementation of AJAX, allows developers to make asynchronous requests to a server and update parts of a web page without requiring a full page reload"
   ]
  },
  {
   "cell_type": "markdown",
   "metadata": {},
   "source": [
    "## Basic Syntax\n",
    "\n",
    "Whenever you are working with jQuery, the most basic format you will you use is the following:\n",
    "\n",
    "(selector).action()\n",
    "\n",
    "- The selector refers to the HTML element/target elements (ie. class or ID)\n",
    "\n",
    "Some examples include:\n",
    "\n",
    "(this).hide() - hides the current element.\n",
    "\n",
    "\n",
    "(\"p\").hide() - hides all <p> elements.\n",
    "\n",
    "\n",
    "(\".test\").hide() - hides all elements with class=\"test\".\n",
    "\n",
    "\n",
    "(\"#test\").hide() - hides the element with id=\"test\"."
   ]
  },
  {
   "cell_type": "code",
   "execution_count": null,
   "metadata": {
    "vscode": {
     "languageId": "html"
    }
   },
   "outputs": [],
   "source": [
    "<html>\n",
    "<head>\n",
    "  <link rel=\"stylesheet\" type=\"text/css\" href=\"https://cdn.datatables.net/1.10.25/css/jquery.dataTables.min.css\">\n",
    "</head>\n",
    "<body>\n",
    "  <h1>Movie Search</h1>\n",
    "\n",
    "  <h2>Search for a Movie Series</h2>\n",
    "  <form id=\"seriesForm\">\n",
    "    <input type=\"text\" id=\"seriesInput\" placeholder=\"Enter series title\">\n",
    "    <button type=\"submit\">Search</button>\n",
    "  </form>\n",
    "  <div id=\"seriesContainer\"></div>\n",
    "\n",
    "  <script src=\"https://code.jquery.com/jquery-3.6.0.min.js\"></script>\n",
    "  <script src=\"https://cdn.datatables.net/1.10.25/js/jquery.dataTables.min.js\"></script>\n",
    "  <script>\n",
    "    function fetchMovieSeriesData(seriesTitle) {\n",
    "      var apiUrl = \"https://api.themoviedb.org/3/search/movie?api_key=5f87798890b72c6ac53b262ba43ed8c6&query=\" + encodeURIComponent(seriesTitle); \n",
    "      var request = new XMLHttpRequest(); // requests data\n",
    "      request.open(\"GET\", apiUrl, true); // fetches the data from the url\n",
    "      request.onload = function() { \n",
    "        if (request.status === 200) { // if request is successful - more specific than before\n",
    "          var data = JSON.parse(request.responseText); // JS variable from JSON data\n",
    "          fetchSeriesMovieData(data);\n",
    "        } else {\n",
    "          document.getElementById(\"seriesContainer\").textContent = \"Error fetching movie series data.\";\n",
    "        }\n",
    "      };\n",
    "      request.onerror = function() {\n",
    "        document.getElementById(\"seriesContainer\").textContent = \"Error fetching movie series data.\";\n",
    "      };\n",
    "      request.send();\n",
    "    }\n",
    "    function fetchSeriesMovieData(data) {\n",
    "      if (data.results && data.results.length > 0) { // checks that data contains info and is not empty\n",
    "        var movieSeries = data.results;\n",
    "        var creditsDataPromises = movieSeries.map(function(movie) { // creates an array of promises, which each fetch data for a movie in the series through a separate API request\n",
    "          var apiUrl = \"https://api.themoviedb.org/3/movie/\" + movie.id + \"/credits?api_key=5f87798890b72c6ac53b262ba43ed8c6\";\n",
    "          return fetch(apiUrl).then(function(response) { // each request from each promise\n",
    "            return response.json();\n",
    "          });\n",
    "        });\n",
    "        Promise.all(creditsDataPromises).then(function(creditsData) { // All promises are resolved and a new function is called with the movies series and the data\n",
    "          displayMovieSeriesData(movieSeries, creditsData);  \n",
    "        }).catch(function(error) { // if an error appears\n",
    "          document.getElementById(\"seriesContainer\").textContent = \"Error fetching movie series data.\";\n",
    "        });\n",
    "      } else {\n",
    "        document.getElementById(\"seriesContainer\").textContent = \"No movie series found.\";\n",
    "      }\n",
    "    }\n",
    "    function displayMovieSeriesData(movieSeries, creditsData) {\n",
    "      var table = document.createElement(\"table\");\n",
    "      var tableHeader = table.createTHead(); // a header is created \n",
    "      var headerRow = tableHeader.insertRow(); // Rows are added to the table\n",
    "      var columns = [\"Title\", \"Popularity\", \"Vote Count\", \"Vote Average\", \"Poster\"]; // column titles\n",
    "      for (var i = 0; i < columns.length; i++) { // iterates through column array and continues until i is greater than length of columns\n",
    "      // basically, rows are created for every column\n",
    "        var th = document.createElement(\"th\"); // rows are added underneath the headers\n",
    "        th.textContent = columns[i]; // data is added to the rows\n",
    "        headerRow.appendChild(th); // the rows are displayed\n",
    "      }\n",
    "      var tableBody = table.createTBody(); // the body of the table is created\n",
    "      for (var j = 0; j < movieSeries.length; j++) { // another for loop but iterates through the data\n",
    "      // this way, every single row with contain data since the loop stops once all the data is iterated through\n",
    "        var movie = movieSeries[j]; // the data is assigned to a variable\n",
    "        var row = tableBody.insertRow(); // rows are added to the body\n",
    "        var titleCell = row.insertCell(); \n",
    "        titleCell.textContent = movie.title; // the title is displayed in new cells at the rows\n",
    "        var popularityCell = row.insertCell();\n",
    "        popularityCell.textContent = movie.popularity; // the popularity is displayed\n",
    "        var voteCountCell = row.insertCell();\n",
    "        voteCountCell.textContent = movie.vote_count; // the vote count is displayed\n",
    "        var voteAverageCell = row.insertCell();\n",
    "        voteAverageCell.textContent = movie.vote_average; // the vote average is displayed\n",
    "        var posterCell = row.insertCell();\n",
    "        var posterImage = $(\"<img>\")\n",
    "          .attr(\"src\", \"https://image.tmdb.org/t/p/w200\" + movie.poster_path)\n",
    "          .attr(\"alt\", \"Movie Poster\");\n",
    "        posterCell.appendChild(posterImage);\n",
    "      }\n",
    "      document.getElementById(\"seriesContainer\").appendChild(table);\n",
    "      $('.movie-series-table').DataTable();\n",
    "    } \n",
    "    document.getElementById(\"seriesForm\").addEventListener(\"submit\", function(event) {\n",
    "      event.preventDefault();\n",
    "      var seriesTitle = document.getElementById(\"seriesInput\").value;\n",
    "      fetchMovieSeriesData(seriesTitle);\n",
    "    });\n",
    "  </script>\n",
    "</body>\n",
    "</html>"
   ]
  },
  {
   "cell_type": "markdown",
   "metadata": {},
   "source": [
    "As you can see, JQuery can be used with APIs to create a more user friendly output and also makes it easier to work with API's and code. It also allows for DOM manipulation and event handling (to be covered later). Overall, JQuery is a very powerful tool that can be used to help with coding and ensure better user experience.\n",
    "\n",
    "### Comparison\n",
    "\n",
    "Without JQuery:"
   ]
  },
  {
   "cell_type": "code",
   "execution_count": null,
   "metadata": {
    "vscode": {
     "languageId": "html"
    }
   },
   "outputs": [],
   "source": [
    "<script>\n",
    "    var posterImage = document.createElement(\"img\");\n",
    "    posterImage.src = \"https://image.tmdb.org/t/p/w200\" + movie.poster_path;\n",
    "    posterImage.alt = \"Movie Poster\";\n",
    "</script>"
   ]
  },
  {
   "cell_type": "markdown",
   "metadata": {},
   "source": [
    "With JQuery:"
   ]
  },
  {
   "cell_type": "code",
   "execution_count": null,
   "metadata": {
    "vscode": {
     "languageId": "html"
    }
   },
   "outputs": [],
   "source": [
    "<script>\n",
    "    var posterImage = $(\"<img>\")\n",
    "      .attr(\"src\", \"https://image.tmdb.org/t/p/w200\" + movie.poster_path)\n",
    "      .attr(\"alt\", \"Movie Poster\");\n",
    "    posterCell.appendChild(posterImage);\n",
    "</script>"
   ]
  },
  {
   "cell_type": "markdown",
   "metadata": {},
   "source": [
    "# Introduction to DOM\n",
    "\n",
    "One of the most useful abilities of JavaScript (and thus jQuery) is its ability to manipulate the DOM. But what is the DOM?"
   ]
  },
  {
   "cell_type": "markdown",
   "metadata": {},
   "source": [
    "# Overview of DOM\n",
    "\n",
    "The DOM, short for Document Object Model, is a standard that allows us to create, change, or remove elements from HTML or XML documents. \n",
    "\n",
    "Some operations that you can perform on DOM elements include...\n",
    "\n",
    "- Extracting the content of an element\n",
    "- Changing the content of an element\n",
    "- Adding an element before or after an existing element\n",
    "- Replacing an existing element with another element\n",
    "- Deleting an element\n",
    "- And many more!"
   ]
  },
  {
   "cell_type": "markdown",
   "metadata": {},
   "source": [
    "## jQuery Get Methods"
   ]
  },
  {
   "cell_type": "markdown",
   "metadata": {},
   "source": [
    "### text() method\n",
    "\n",
    "The jQuery text method, as its name implies, simply returns the plain text value of the content.\n",
    "\n",
    "Below is an example of an application of the text() method:\n",
    "\n",
    "\n",
    "### html() method\n",
    "\n",
    "The jQuery html method returns the plain text value of the content too, but it also returns it with HTML tags."
   ]
  },
  {
   "cell_type": "markdown",
   "metadata": {},
   "source": [
    "### Example "
   ]
  },
  {
   "cell_type": "code",
   "execution_count": null,
   "metadata": {
    "vscode": {
     "languageId": "html"
    }
   },
   "outputs": [],
   "source": [
    "\n",
    "<div id=\"info\">\n",
    "  <p class=\"name\">John Doe</p>\n",
    "  <p class=\"description\">\n",
    "    <span>Web Developer</span> at <a href=\"#\">TechCorp</a>\n",
    "  </p>\n",
    "</div>"
   ]
  },
  {
   "cell_type": "markdown",
   "metadata": {},
   "source": [
    "#### text() method use"
   ]
  },
  {
   "cell_type": "code",
   "execution_count": null,
   "metadata": {
    "vscode": {
     "languageId": "javascript"
    }
   },
   "outputs": [],
   "source": [
    "var descriptionText = $(\".description\").text();\n",
    "console.log(descriptionText);\n",
    "\n",
    "// with the text() method, this would output the plain text value of description \n",
    "// output: 'Developer at TechCorp'"
   ]
  },
  {
   "cell_type": "markdown",
   "metadata": {},
   "source": [
    "- jQuery .text() method is used to retrieve the plain text content from the element with the class description ('Developer at TechCorp')\n",
    "- The $(\".description\").text() part selects the element with class description and then gets its textual content without any HTML tags."
   ]
  },
  {
   "cell_type": "markdown",
   "metadata": {},
   "source": [
    "#### html() method use"
   ]
  },
  {
   "cell_type": "code",
   "execution_count": null,
   "metadata": {
    "vscode": {
     "languageId": "javascript"
    }
   },
   "outputs": [],
   "source": [
    "var descriptionHTML = $(\".description\").html();\n",
    "console.log(descriptionHTML);\n",
    "\n",
    "// with the html() method, this would output the HTML content of the element with all the HTML tags\n",
    "// output:'<span>Web Developer</span> at <a href=\"#\">TechCorp</a>'"
   ]
  },
  {
   "cell_type": "markdown",
   "metadata": {},
   "source": [
    "- The .html() method is used to fetch the HTML content from the same description element\n",
    "- $(\".description\").html() selects the description element and also its inner HTML content, including the HTML tags like <span> and <a> "
   ]
  },
  {
   "cell_type": "markdown",
   "metadata": {},
   "source": [
    "# Event Handling"
   ]
  },
  {
   "cell_type": "markdown",
   "metadata": {},
   "source": [
    "## Events\n",
    "\n",
    "Events refer to the various actions or occurrences that happen in the web browser, which can be detected and responded to with JavaScript\n",
    "\n",
    "Some types of events include...\n",
    "- keyboard events (keypress, keyup, etc.)\n",
    "- form events (ex. submit)\n",
    "- document/window events (resize, load, etc.)"
   ]
  },
  {
   "cell_type": "markdown",
   "metadata": {},
   "source": [
    "### Examples"
   ]
  },
  {
   "cell_type": "markdown",
   "metadata": {},
   "source": [
    "#### Event Handler for Clicking a Button"
   ]
  },
  {
   "cell_type": "code",
   "execution_count": null,
   "metadata": {
    "vscode": {
     "languageId": "html"
    }
   },
   "outputs": [],
   "source": [
    "<button id=\"clickButton\">Click Me!</button>\n"
   ]
  },
  {
   "cell_type": "code",
   "execution_count": null,
   "metadata": {
    "vscode": {
     "languageId": "javascript"
    }
   },
   "outputs": [],
   "source": [
    "$(\"#clickButton\").click(function() {\n",
    "    alert(\"Button was clicked!\");\n",
    "  });"
   ]
  },
  {
   "cell_type": "markdown",
   "metadata": {},
   "source": [
    "Breakdown:\n",
    "\n",
    "- In this first example, the jQuery code sets up an event handler for the click event on the button with the ID ```clickButton```\n",
    "- When the button is clicked, an alert box displays the message, \"Button was clicked!\""
   ]
  },
  {
   "cell_type": "markdown",
   "metadata": {},
   "source": [
    "#### Event Handler for Form Submit"
   ]
  },
  {
   "cell_type": "code",
   "execution_count": null,
   "metadata": {
    "vscode": {
     "languageId": "html"
    }
   },
   "outputs": [],
   "source": [
    "<form id=\"myForm\">\n",
    "  <input type=\"text\" placeholder=\"Enter text\">\n",
    "  <input type=\"submit\" value=\"Submit\">\n",
    "</form>\n",
    "<div id=\"formOutput\"></div>"
   ]
  },
  {
   "cell_type": "code",
   "execution_count": null,
   "metadata": {
    "vscode": {
     "languageId": "javascript"
    }
   },
   "outputs": [],
   "source": [
    "$(\"#myForm\").submit(function(event) {\n",
    "    event.preventDefault(); \n",
    "    var enteredText = $(this).find(\"input[type='text']\").val();\n",
    "    $(\"#formOutput\").text(\"You entered: \" + enteredText);\n",
    "  });\n",
    "  "
   ]
  },
  {
   "cell_type": "markdown",
   "metadata": {},
   "source": [
    "Breakdown:\n",
    "\n",
    "- In this code segment, the jQuery script handles the submit event of the form with the ID ```myForm```.\n",
    "- The event.preventDefault() method stops the form from being submitted in the traditional way (clicking the submit button), which prevents the page from reloading.\n",
    "- It gets the text entered in the text input field and displays it in a div with the ID ```formOutput```."
   ]
  },
  {
   "cell_type": "markdown",
   "metadata": {},
   "source": [
    "#### Event Handler for Mouse Enter/Leave"
   ]
  },
  {
   "cell_type": "code",
   "execution_count": null,
   "metadata": {
    "vscode": {
     "languageId": "html"
    }
   },
   "outputs": [],
   "source": [
    "<div id=\"hoverDiv\">Hover over me!</div>\n"
   ]
  },
  {
   "cell_type": "code",
   "execution_count": null,
   "metadata": {
    "vscode": {
     "languageId": "javascript"
    }
   },
   "outputs": [],
   "source": [
    "$(\"#hoverDiv\").mouseenter(function() {\n",
    "    $(this).css(\"background-color\", \"green\");\n",
    "  }).mouseleave(function() {\n",
    "    $(this).css(\"background-color\", \"red\");\n",
    "  });"
   ]
  },
  {
   "cell_type": "markdown",
   "metadata": {},
   "source": [
    "Breakdown:\n",
    "- The code attaches two event handlers to the div with ID hoverDiv. (for when the mouse enters and leaves the div)\n",
    "- When the mouse hovers over the div (mouseenter event), the background color changes to green.\n",
    "- When the mouse leaves the div (mouseleave event), the background color changes to red."
   ]
  },
  {
   "cell_type": "markdown",
   "metadata": {},
   "source": [
    "# What is CRUD?\n",
    "\n",
    "**Create (C):**\n",
    "\n",
    "GOAL: create records or objects in a database, like creating records in SQLITE database in SPRING java project. \n",
    "\n",
    "**Read (R):**\n",
    "\n",
    "GOAL: retrieve data from our database for display or for interaction\n",
    "\n",
    "**Update (U):**\n",
    "\n",
    "GOAL: Update our data in our database, such as changing attributes like name\n",
    "\n",
    "**Delete (D):**\n",
    "\n",
    "GOAL: remove data from our database, like removing objects from our database\n",
    "\n",
    "### popcorn hack\n",
    "\n",
    "talk about usage of one of four elements of CRUD from your project in tri 1. Focus on how CRUD was implemented. \n",
    "\n",
    "### simple example of CRUD"
   ]
  },
  {
   "cell_type": "code",
   "execution_count": null,
   "metadata": {},
   "outputs": [],
   "source": [
    "import java.util.ArrayList;\n",
    "import java.util.List;\n",
    "import java.util.Scanner;\n",
    "class Person {\n",
    "    private int id;\n",
    "    private String name;\n",
    "    public Person(int id, String name) {this.id = id; this.name = name;}\n",
    "    public int getId() {return id;}\n",
    "    public String getName() {return name;}\n",
    "    public void setName(String name) {this.name = name;}\n",
    "}\n",
    "public class CrudExample {\n",
    "    private static List<Person> people = new ArrayList<>();\n",
    "    private static int nextId = 1;\n",
    "\n",
    "    public static void main(String[] args) {\n",
    "        Scanner scanner = new Scanner(System.in);\n",
    "        while (true) { System.out.println(\"1. Create\\n2. Read\\n3. Update\\n4. Delete\\n5. Exit\\nEnter your choice: \");\n",
    "            int choice = scanner.nextInt();\n",
    "            switch (choice) {\n",
    "                case 1: createPerson(scanner); break;\n",
    "                case 2: readPeople(); break;\n",
    "                case 3: updatePerson(scanner); break;\n",
    "                case 4: deletePerson(scanner); break;\n",
    "                case 5: System.out.println(\"Exiting program.\"); return;\n",
    "                default: System.out.println(\"Invalid choice. Please try again.\");\n",
    "            }\n",
    "        }\n",
    "    }\n",
    "    //CREATE\n",
    "    private static void createPerson(Scanner scanner) {\n",
    "        System.out.print(\"Enter person name: \"); String name = scanner.next();\n",
    "        Person person = new Person(nextId++, name); people.add(person);\n",
    "        System.out.println(\"Person created with ID: \" + person.getId());\n",
    "    }\n",
    "    //READ\n",
    "    private static void readPeople() {\n",
    "        System.out.println(\"People:\");\n",
    "        for (Person person : people) {System.out.println(\"ID: \" + person.getId() + \", Name: \" + person.getName());}\n",
    "    }\n",
    "    //UPDATE\n",
    "    private static void updatePerson(Scanner scanner) {\n",
    "        System.out.print(\"Enter person ID to update: \"); int idToUpdate = scanner.nextInt();\n",
    "        for (Person person : people) {if (person.getId() == idToUpdate) {System.out.print(\"Enter new name: \"); String newName = scanner.next(); person.setName(newName); System.out.println(\"Person updated successfully.\"); return;}}\n",
    "        System.out.println(\"Person with ID \" + idToUpdate + \" not found.\");\n",
    "    }\n",
    "    //DELETE \n",
    "    private static void deletePerson(Scanner scanner) {\n",
    "        System.out.print(\"Enter person ID to delete: \"); int idToDelete = scanner.nextInt();\n",
    "        for (Person person : people) {if (person.getId() == idToDelete) {people.remove(person); System.out.println(\"Person deleted successfully.\"); return;}}\n",
    "        System.out.println(\"Person with ID \" + idToDelete + \" not found.\");\n",
    "    }\n",
    "}\n",
    "CrudExample.main(null);"
   ]
  },
  {
   "cell_type": "markdown",
   "metadata": {},
   "source": [
    "# CRUD + jQuery Connection"
   ]
  },
  {
   "cell_type": "markdown",
   "metadata": {},
   "source": [
    "## Example with Disney Characters"
   ]
  },
  {
   "cell_type": "markdown",
   "metadata": {},
   "source": [
    "<!-- Include jQuery library -->\n",
    "<script src=\"https://code.jquery.com/jquery-3.6.4.min.js\"></script>\n",
    "\n",
    "<style>\n",
    "    /* Set background color, font, and remove default margins and padding for the body */\n",
    "    body {\n",
    "        background-color: #a8c0ff; /* Disney Blue */\n",
    "        font-family: 'Arial', sans-serif;\n",
    "        margin: 0;\n",
    "        padding: 0;\n",
    "    }\n",
    "\n",
    "    /* Style for the table */\n",
    "    table {\n",
    "        border-collapse: collapse;\n",
    "        width: 100%;\n",
    "        margin-top: 20px;\n",
    "    }\n",
    "\n",
    "    /* Style for table header and cells */\n",
    "    th, td {\n",
    "        border: 1px solid #70a9ff; /* Disney Blue */\n",
    "        padding: 10px;\n",
    "        text-align: left;\n",
    "    }\n",
    "\n",
    "    /* Style for table header */\n",
    "    th {\n",
    "        background-color: #3d5af1; /* Disney Blue */\n",
    "        color: white;\n",
    "    }\n",
    "\n",
    "    /* Style for buttons */\n",
    "    button {\n",
    "        background-color: #3d5af1; /* Disney Blue */\n",
    "        color: white;\n",
    "        border: none;\n",
    "        padding: 8px 12px;\n",
    "        cursor: pointer;\n",
    "    }\n",
    "\n",
    "    /* Style for button hover effect */\n",
    "    button:hover {\n",
    "        background-color: #1c3faa; /* Lighter Disney Blue */\n",
    "    }\n",
    "</style>\n",
    "\n",
    "<!-- HTML table structure with an empty tbody for dynamic data -->\n",
    "<table id=\"data-table\">\n",
    "    <thead>\n",
    "        <tr>\n",
    "        <th>ID</th>\n",
    "        <th>Name</th>\n",
    "        <th>Email</th>\n",
    "        <th>Actions</th>\n",
    "        </tr>\n",
    "    </thead>\n",
    "    <tbody>\n",
    "        <!-- Initial data will be dynamically added here -->\n",
    "    </tbody>\n",
    "</table>\n",
    "\n",
    "<!-- Button to trigger the creation of a new Disney character -->\n",
    "<button id=\"create-btn\">Create Disney Character</button>\n",
    "\n",
    "<script>\n",
    "    // Initial data for Disney characters\n",
    "    const initialData = [\n",
    "        { id: 1, name: 'Mickey Mouse', email: 'mickey@example.com' },\n",
    "        { id: 2, name: 'Donald Duck', email: 'donald@example.com' }\n",
    "    ];\n",
    "\n",
    "    // Dynamic data that can be updated or modified\n",
    "    let dynamicData = [...initialData];\n",
    "\n",
    "    // Function to remove rows with duplicate IDs\n",
    "    function removeDuplicateIds(data) {\n",
    "        const uniqueIds = new Set();\n",
    "        return data.filter(item => {\n",
    "            if (uniqueIds.has(item.id)) {\n",
    "                return false; // Duplicate ID, exclude this item\n",
    "            }\n",
    "            uniqueIds.add(item.id);\n",
    "            return true;\n",
    "        });\n",
    "    }\n",
    "\n",
    "    // Function to render data into the table\n",
    "    function renderData(data) {\n",
    "        const tableBody = $('#data-table tbody');\n",
    "        tableBody.empty();\n",
    "\n",
    "        // Loop through the data and create table rows dynamically\n",
    "        data.forEach(item => {\n",
    "            const row = `\n",
    "                <tr>\n",
    "                    <td>${item.id}</td>\n",
    "                    <td>${item.name}</td>\n",
    "                    <td>${item.email}</td>\n",
    "                    <td>\n",
    "                        <button class=\"update-btn\" data-id=\"${item.id}\">Update</button>\n",
    "                        <button class=\"delete-btn\" data-id=\"${item.id}\">Delete</button>\n",
    "                    </td>\n",
    "                </tr>\n",
    "            `;\n",
    "            tableBody.append(row);\n",
    "        });\n",
    "    }\n",
    "\n",
    "    // Function to create a new Disney character\n",
    "    function createDisneyCharacter() {\n",
    "        const newName = prompt('Enter the name of the Disney character:');\n",
    "        const newEmail = prompt('Enter the email of the Disney character:');\n",
    "\n",
    "        // Check if there are multiple rows with the same ID\n",
    "        const existingIds = [...initialData, ...dynamicData].map(item => item.id);\n",
    "        const newId = existingIds.length > 0 ? Math.max(...existingIds) + 1 : 1;\n",
    "\n",
    "        // Add the new character to the dynamic data array\n",
    "        dynamicData = [...dynamicData, { id: newId, name: newName, email: newEmail }];\n",
    "\n",
    "        // Render only the dynamic data\n",
    "        renderData(removeDuplicateIds(dynamicData));\n",
    "    }\n",
    "\n",
    "    // Event handler for the \"Create Disney Character\" button click\n",
    "    $('#create-btn').on('click', createDisneyCharacter);\n",
    "\n",
    "    // Event handler for the \"Delete\" and \"Update\" buttons inside the table\n",
    "    $('#data-table').on('click', '.delete-btn', function () {\n",
    "        // Get the ID of the item to delete\n",
    "        const idToDelete = $(this).data('id');\n",
    "        // Filter out the item with the specified ID from the dynamic data\n",
    "        dynamicData = dynamicData.filter(item => item.id !== idToDelete);\n",
    "        // Render only the dynamic data\n",
    "        renderData(removeDuplicateIds(dynamicData));\n",
    "    });\n",
    "\n",
    "    // Event handler for the \"Update\" button inside the table\n",
    "    $('#data-table').on('click', '.update-btn', function () {\n",
    "        // Get the ID of the item to update\n",
    "        const idToEdit = $(this).data('id');\n",
    "        // Find the index of the item in the dynamic data array\n",
    "        const updateIndex = dynamicData.findIndex(item => item.id === idToEdit);\n",
    "\n",
    "        // Check if the item was found\n",
    "        if (updateIndex !== -1) {\n",
    "            // Prompt the user for the new name and email\n",
    "            const updateName = prompt('Enter the new name of the Disney character:');\n",
    "            const updateEmail = prompt('Enter the new email of the Disney character:');\n",
    "\n",
    "            // Update the item in the dynamic data array\n",
    "            dynamicData[updateIndex] = { id: idToEdit, name: updateName, email: updateEmail };\n",
    "\n",
    "            // Render only the dynamic data\n",
    "            renderData(removeDuplicateIds(dynamicData));\n",
    "        }\n",
    "    });\n",
    "\n",
    "    // Initial rendering of the table with the initial data\n",
    "    renderData(removeDuplicateIds(initialData));\n",
    "</script>\n"
   ]
  },
  {
   "cell_type": "code",
   "execution_count": null,
   "metadata": {
    "vscode": {
     "languageId": "html"
    }
   },
   "outputs": [],
   "source": [
    "<!-- Include jQuery library -->\n",
    "<script src=\"https://code.jquery.com/jquery-3.6.4.min.js\"></script>\n",
    "\n",
    "<style>\n",
    "    /* Set background color, font, and remove default margins and padding for the body */\n",
    "    body {\n",
    "        background-color: #a8c0ff; /* Disney Blue */\n",
    "        font-family: 'Arial', sans-serif;\n",
    "        margin: 0;\n",
    "        padding: 0;\n",
    "    }\n",
    "\n",
    "    /* Style for the table */\n",
    "    table {\n",
    "        border-collapse: collapse;\n",
    "        width: 100%;\n",
    "        margin-top: 20px;\n",
    "    }\n",
    "\n",
    "    /* Style for table header and cells */\n",
    "    th, td {\n",
    "        border: 1px solid #70a9ff; /* Disney Blue */\n",
    "        padding: 10px;\n",
    "        text-align: left;\n",
    "    }\n",
    "\n",
    "    /* Style for table header */\n",
    "    th {\n",
    "        background-color: #3d5af1; /* Disney Blue */\n",
    "        color: white;\n",
    "    }\n",
    "\n",
    "    /* Style for buttons */\n",
    "    button {\n",
    "        background-color: #3d5af1; /* Disney Blue */\n",
    "        color: white;\n",
    "        border: none;\n",
    "        padding: 8px 12px;\n",
    "        cursor: pointer;\n",
    "    }\n",
    "\n",
    "    /* Style for button hover effect */\n",
    "    button:hover {\n",
    "        background-color: #1c3faa; /* Lighter Disney Blue */\n",
    "    }\n",
    "</style>\n",
    "\n",
    "<!-- HTML table structure with an empty tbody for dynamic data -->\n",
    "<table id=\"data-table\">\n",
    "    <thead>\n",
    "        <tr>\n",
    "        <th>ID</th>\n",
    "        <th>Name</th>\n",
    "        <th>Email</th>\n",
    "        <th>Actions</th>\n",
    "        </tr>\n",
    "    </thead>\n",
    "    <tbody>\n",
    "        <!-- Initial data will be dynamically added here -->\n",
    "    </tbody>\n",
    "</table>\n",
    "\n",
    "<!-- Button to trigger the creation of a new Disney character -->\n",
    "<button id=\"create-btn\">Create Disney Character</button>\n",
    "\n",
    "<script>\n",
    "    // Initial data for Disney characters\n",
    "    const initialData = [\n",
    "        { id: 1, name: 'Mickey Mouse', email: 'mickey@example.com' },\n",
    "        { id: 2, name: 'Donald Duck', email: 'donald@example.com' }\n",
    "    ];\n",
    "\n",
    "    // Dynamic data that can be updated or modified\n",
    "    let dynamicData = [...initialData];\n",
    "\n",
    "    // Function to remove rows with duplicate IDs\n",
    "    function removeDuplicateIds(data) {\n",
    "        const uniqueIds = new Set();\n",
    "        return data.filter(item => {\n",
    "            if (uniqueIds.has(item.id)) {\n",
    "                return false; // Duplicate ID, exclude this item\n",
    "            }\n",
    "            uniqueIds.add(item.id);\n",
    "            return true;\n",
    "        });\n",
    "    }\n",
    "\n",
    "    // Function to render data into the table\n",
    "    function renderData(data) {\n",
    "        const tableBody = $('#data-table tbody');\n",
    "        tableBody.empty();\n",
    "\n",
    "        // Loop through the data and create table rows dynamically\n",
    "        data.forEach(item => {\n",
    "            const row = `\n",
    "                <tr>\n",
    "                    <td>${item.id}</td>\n",
    "                    <td>${item.name}</td>\n",
    "                    <td>${item.email}</td>\n",
    "                    <td>\n",
    "                        <button class=\"update-btn\" data-id=\"${item.id}\">Update</button>\n",
    "                        <button class=\"delete-btn\" data-id=\"${item.id}\">Delete</button>\n",
    "                    </td>\n",
    "                </tr>\n",
    "            `;\n",
    "            tableBody.append(row);\n",
    "        });\n",
    "    }\n",
    "\n",
    "    // Function to create a new Disney character\n",
    "    function createDisneyCharacter() {\n",
    "        const newName = prompt('Enter the name of the Disney character:');\n",
    "        const newEmail = prompt('Enter the email of the Disney character:');\n",
    "\n",
    "        // Check if there are multiple rows with the same ID\n",
    "        const existingIds = [...initialData, ...dynamicData].map(item => item.id);\n",
    "        const newId = existingIds.length > 0 ? Math.max(...existingIds) + 1 : 1;\n",
    "\n",
    "        // Add the new character to the dynamic data array\n",
    "        dynamicData = [...dynamicData, { id: newId, name: newName, email: newEmail }];\n",
    "\n",
    "        // Render only the dynamic data\n",
    "        renderData(removeDuplicateIds(dynamicData));\n",
    "    }\n",
    "\n",
    "    // Event handler for the \"Create Disney Character\" button click\n",
    "    $('#create-btn').on('click', createDisneyCharacter);\n",
    "\n",
    "    // Event handler for the \"Delete\" and \"Update\" buttons inside the table\n",
    "    $('#data-table').on('click', '.delete-btn', function () {\n",
    "        // Get the ID of the item to delete\n",
    "        const idToDelete = $(this).data('id');\n",
    "        // Filter out the item with the specified ID from the dynamic data\n",
    "        dynamicData = dynamicData.filter(item => item.id !== idToDelete);\n",
    "        // Render only the dynamic data\n",
    "        renderData(removeDuplicateIds(dynamicData));\n",
    "    });\n",
    "\n",
    "    // Event handler for the \"Update\" button inside the table\n",
    "    $('#data-table').on('click', '.update-btn', function () {\n",
    "        // Get the ID of the item to update\n",
    "        const idToEdit = $(this).data('id');\n",
    "        // Find the index of the item in the dynamic data array\n",
    "        const updateIndex = dynamicData.findIndex(item => item.id === idToEdit);\n",
    "\n",
    "        // Check if the item was found\n",
    "        if (updateIndex !== -1) {\n",
    "            // Prompt the user for the new name and email\n",
    "            const updateName = prompt('Enter the new name of the Disney character:');\n",
    "            const updateEmail = prompt('Enter the new email of the Disney character:');\n",
    "\n",
    "            // Update the item in the dynamic data array\n",
    "            dynamicData[updateIndex] = { id: idToEdit, name: updateName, email: updateEmail };\n",
    "\n",
    "            // Render only the dynamic data\n",
    "            renderData(removeDuplicateIds(dynamicData));\n",
    "        }\n",
    "    });\n",
    "\n",
    "    // Initial rendering of the table with the initial data\n",
    "    renderData(removeDuplicateIds(initialData));\n",
    "</script>\n"
   ]
  }
 ],
 "metadata": {
  "kernelspec": {
   "display_name": "base",
   "language": "python",
   "name": "python3"
  },
  "language_info": {
   "codemirror_mode": {
    "name": "ipython",
    "version": 3
   },
   "file_extension": ".py",
   "mimetype": "text/x-python",
   "name": "python",
   "nbconvert_exporter": "python",
   "pygments_lexer": "ipython3",
   "version": "3.9.12"
  }
 },
 "nbformat": 4,
 "nbformat_minor": 2
}
