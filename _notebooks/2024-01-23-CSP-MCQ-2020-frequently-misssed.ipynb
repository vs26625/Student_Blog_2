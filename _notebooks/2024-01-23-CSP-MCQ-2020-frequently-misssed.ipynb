{
 "cells": [
  {
   "cell_type": "raw",
   "metadata": {},
   "source": [
    "---\n",
    "comments: true\n",
    "layout: post\n",
    "title: MCQ 2020 Frequently Missed Questions\n",
    "description: Indiviual explanation on each of the 10 most missed questions.\n",
    "type: collab\n",
    "courses: { csp: {week: 20} }\n",
    "---"
   ]
  },
  {
   "cell_type": "markdown",
   "metadata": {},
   "source": [
    "## 4. Cause of overflow Error (1D, binary math) - Tara Sehdave\n",
    "\n",
    "In a certain computer program, two positive integers are added together, resulting in an overflow error. Which of the following best explains why the error occurs?\n",
    "\n",
    "Responses\n",
    "\n",
    "A\n",
    "The program attempted to perform an operation that is considered an undecidable problem.\n",
    "\n",
    "B\n",
    "The precision of the result is limited due to the constraints of using a floating-point representation.\n",
    "\n",
    "C\n",
    "The program can only use a fixed number of bits to represent integers; the computed sum is greater than the maximum representable value.\n",
    "\n",
    "D\n",
    "The program cannot represent integers; the integers are converted into decimal approximations, leading to rounding errors.\n",
    "\n",
    "The correct answer is C because...\n",
    "\n",
    "- Overflow error occurs in a computer program when adding two positive integers.\n",
    "- The program uses a fixed number of bits to represent integers.  In Python and other programming languages, an integer occupies four bytes, or 32 bits.\n",
    "- The sum of the two integers exceeds the maximum representable value within the fixed number of bits.  In 32 bits, the maximum positive decimal number is 4,294,967,295.\n",
    "- Due to this limitation, the program cannot accurately represent the result of the addition.  In 32 bits, 4,294,967,295 + 1 = 0\n",
    "- As a result, an overflow error is triggered to indicate that the computed sum is beyond the representable range.\n",
    "\n",
    "Add Python Jupyter Notebook example in Python"
   ]
  },
  {
   "cell_type": "markdown",
   "metadata": {},
   "source": [
    "## 5. Inputs to Logic Circuit (2D, binary logic) - Hanlun Li\n",
    "\n",
    "The diagram below shows a circuit composed of three logic gates. Each gate takes two inputs and produces a single output. For which of the following input values will the circuit have an output of true ?\n",
    "\n"
   ]
  },
  {
   "cell_type": "markdown",
   "metadata": {},
   "source": [
    "## 11. Color represented by binary Triplet (2D, binary) - Torin Wolff\n",
    "\n",
    "A color in a computing application is represented by an RGB triplet that describes the amount of red, green, and blue, respectively, used to create the desired color. A selection of colors and their corresponding RGB triplets are shown in the following table. Each value is represented in decimal (base 10).\n",
    "\n",
    "According to information in the table, what color is represented by the binary RGB triplet (11111111, 11111111, 11110000) ?\n",
    "\n",
    "#### What is a binary RGB triplet?\n",
    "A binary triplet is a set of three binary numbers. Binary numbers are numbers that are represented by a series of 1's and 0's. Binary numbers are used in computers because they are easy to represent with electrical signals. A binary RGB triplet is a set of three binary numbers that are used to represent a color, from example question above...\n",
    "\n",
    "    Red Color 11111111 \n",
    "\n",
    "    Green Color 11111111\n",
    "\n",
    "    Blue Color 11110000\n",
    "\n",
    "The numbers are represented in binary because it is easy for engineers to correlate bits to electrical signals for color. The numbers are represented in a triplet to distinguish red, green, and blue.\n",
    "\n",
    "According to information in the table, what bit or bits would you change to reduce the green color by approximately 1/2 (11111111, 11111111, 11110000) ?\n",
    "\n",
    "Show the binary numbers after reducing green color by approximately 1/2 in Hexadecimal and Decimal.\n",
    "\n",
    "#### How do you convert a binary triplet to a decimal number?\n",
    "To convert a binary string to a decimal number you need to multiply each digit by its place value. For example, if you have the binary string 1010 you would multiply the first digit by 2^3, the second digit by 2^2, the third digit by 2^1, and the fourth digit by 2^0. This would give you the decimal number 10. To convert a binary triplet to a decimal number you need to multiply each digit by its place value. For example, if you have the binary triplet (01101110, 11111111, 10010110) you would multiply the first digit by 2^7, the second digit by 2^6, the third digit by 2^5, the fourth digit by 2^4, the fifth digit by 2^3, the sixth digit by 2^2, the seventh digit by 2^1, and the eighth digit by 2^0. This would give you the decimal number 110, 255, 150.\n",
    "\n",
    "(0 * 2^7) + (1 * 2^6) + (1 * 2^5) + (0 * 2^4) + (1 * 2^3) + (1 * 2^2) + (1 * 2^1) + (0 * 2^0)\n",
    "\n",
    "= 0 + 64 + 32 + 0 + 8 + 4 + 2 + 0\n",
    "\n",
    "= 110\n",
    "\n",
    "Add Python Jupyter Notebook examples to assist in questions and conversions. \n",
    "\n",
    "\n"
   ]
  },
  {
   "cell_type": "markdown",
   "metadata": {},
   "source": [
    "## 15. Compare output of program a and b (1D, program loop) - Arnav Nadar\n",
    "\n",
    "Which of the following best compares the values displayed by programs A and B?\n",
    "\n"
   ]
  },
  {
   "cell_type": "markdown",
   "metadata": {},
   "source": [
    "## 23. Flowchart to set available (1D, algorithmic expression) - Tanujsai Nimmagadda\n",
    "\n",
    "A flowchart is a way to visually represent an algorithm. The flowchart below is used by an application to set the Boolean variable available to true under certain conditions. The flowchart uses the Boolean variable weekday and the integer variable miles.\n",
    "\n",
    "Which of the following statements is equivalent to the algorithm in the flowchart?\n",
    "\n",
    "\n",
    "\n",
    "    - Within this diagram, the circle functions are the start and end of the program. The rectangular boxes are the output and the diamonds are the deciding booleans. \n",
    "    - Using these functions, the program comes to its output of either available being true or false. The program must go through the requirements to get the value true, which the problem asks of us, the variable weekday equals true and the variable miles should be less than 20. These both must be true and cannot result from one or the other happening. \n",
    "\n",
    "The answer was meant to be D.\n",
    "\n",
    "<img src=\"images/CBq50.PNG\" height=\"550px\" width=7550px\"/>\n"
   ]
  },
  {
   "cell_type": "markdown",
   "metadata": {},
   "source": [
    "## 50. Reasonable time algorithms (1D, Big O) - Vance Reynolds \n",
    "\n",
    "Consider the following algorithms. Each algorithm operates on a list containing n elements, where n is a very large integer.\n",
    "\n",
    "An algorithm that accesses each element in the list twice\n",
    "An algorithm that accesses each element in the list n times\n",
    "An algorithm that accesses only the first 10 elements in the list, regardless of the size of the list\n",
    "Which of the algorithms run in reasonable time?\n",
    "\n",
    "Answer D is correct because in order for an algorithm to run in reasonable time, it must take a number of steps less than or equal to a polynomial function. Algorithm I accesses elements times (twice for each of n elements), which is considered in time. Algorithm II accesses elements (n times for each of n elements), which is in reasonable time. Algorithm III accesses 10 elements, which is in reasonable time.\n",
    "\n",
    "Simple Explainations:\n",
    "\n",
    "Unreasonable time: Algorithms with exponential or factorial efficiencies are examples of algorithms that run in an unreasonable amount of time.\n",
    "\n",
    "Reasonable time: Algorithms with a polynomial efficiency or lower (constant, linear, square, cube, etc.) are said to run in a reasonable amount of time."
   ]
  },
  {
   "cell_type": "markdown",
   "metadata": {},
   "source": [
    "## 56. Compare execution times of tow version (1D analysis) - Kayden Le\n",
    "\n",
    "An online game collects data about each player’s performance in the game. A program is used to analyze the data to make predictions about how players will perform in a new version of the game.\n",
    "\n",
    "The procedure GetPrediction (idNum) returns a predicted score for the player with ID number idNum. Assume that all predicted scores are positive. The GetPrediction procedure takes approximately 1 minute to return a result. All other operations happen nearly instantaneously.\n",
    "\n",
    "Two versions of the program are shown below.\n",
    "\n",
    "Which of the following best compares the execution times of the two versions of the program?\n",
    "\n",
    "Version I calls the GetPrediction procedure once for each element of idList, or four times total. Since each call requires 1 minute of execution time, version I requires approximately 4 minutes to execute. Version II calls the GetPrediction procedure twice for each element of idList, and then again in the final display statement. This results in the procedure being called nine times, requiring approximately 9 minutes of execution time.\n",
    "\n",
    "Both versions aim to achieve the same result, which is to find and display the highest predicted score among the players in idList. However, Version I directly updates the highest score (topScore), while Version II updates the ID of the player with the highest score (topID) and then retrieves the predicted score for that player. Version II essentially avoids calling GetPrediction multiple times for the same ID.\n",
    "\n",
    "The answer: D - Version II requires approximately 5 more minutes to execute than version I\n"
   ]
  },
  {
   "cell_type": "code",
   "execution_count": null,
   "metadata": {
    "vscode": {
     "languageId": "plaintext"
    }
   },
   "outputs": [],
   "source": [
    "Version I\n",
    "\n",
    "topScore \n",
    " 0\n",
    "\n",
    "idList \n",
    " [1298702, 1356846, 8848491, 8675309]\n",
    "\n",
    "FOR EACH id IN idList\n",
    "\n",
    "{\n",
    "\n",
    "score \n",
    " GetPrediction (id)\n",
    "\n",
    "IF (score > topScore)\n",
    "\n",
    "{\n",
    "\n",
    "topScore \n",
    " score\n",
    "\n",
    "}\n",
    "\n",
    "}\n",
    "\n",
    "DISPLAY (topScore)\n",
    "\n",
    "Version II\n",
    "\n",
    "idList \n",
    " [1298702, 1356846, 8848491, 8675309]\n",
    "\n",
    "topID \n",
    " idList[1]\n",
    "\n",
    "FOR EACH id IN idList\n",
    "\n",
    "{\n",
    "\n",
    "IF (GetPrediction (id) > GetPrediction (topID))\n",
    "\n",
    "{\n",
    "\n",
    "topID \n",
    " id\n",
    "\n",
    "}\n",
    "\n",
    "}\n",
    "\n",
    "DISPLAY (GetPrediction (topID)) "
   ]
  },
  {
   "cell_type": "markdown",
   "metadata": {},
   "source": [
    "## 64. Error with multiplication using repeated addition (4C algorithms and programs) - Abdullah Khanani\n",
    "\n",
    "The following procedure is intended to return the value of x times y, where x and y are integers. Multiplication is implemented using repeated additions.\n",
    "\n",
    "For which of the following procedure calls does the procedure NOT return the intended value?\n",
    "\n",
    "Select two answers."
   ]
  },
  {
   "cell_type": "markdown",
   "metadata": {},
   "source": [
    "## 65. Call to concat and substring (4B string operations) - Ameer Hussain\n",
    "\n",
    "A program contains the following procedures for string manipulation.\n",
    "\n",
    "Which of the following can be used to store the string \"jackalope\" in the string variable animal ?\n",
    "\n",
    "Select two answers."
   ]
  },
  {
   "cell_type": "markdown",
   "metadata": {},
   "source": [
    "## 67. Error in numOccurrences procedure (4C algorithms and programs)\n",
    "\n",
    "The procedure NumOccurrences is intended to count and return the number of times targetWord appears in the list wordList. The procedure does not work as intended.\n",
    "\n",
    "For which of the following code segments will the call to NumOccurrences NOT return the intended value?\n",
    "\n",
    "Select two answers.  "
   ]
  }
 ],
 "metadata": {
  "language_info": {
   "name": "python"
  },
  "orig_nbformat": 4
 },
 "nbformat": 4,
 "nbformat_minor": 2
}
