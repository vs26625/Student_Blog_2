{
 "cells": [
  {
   "cell_type": "markdown",
   "metadata": {},
   "source": [
    "---\n",
    "toc: true\n",
    "comments: true\n",
    "layout: post\n",
    "title: College Blog Articulation\n",
    "description: Understanding the fundamental aspects of SASS\n",
    "permalink: articulation/overview\n",
    "type: devops\n",
    "courses: { csse: {week: 24} }\n",
    "---"
   ]
  },
  {
   "cell_type": "markdown",
   "metadata": {},
   "source": [
    "{% include nav_articulation.html %}"
   ]
  },
  {
   "cell_type": "markdown",
   "metadata": {},
   "source": [
    "# Overview\n",
    "Requirements for Blog:\n",
    "\n",
    "Each student will build Chapters of their GitHub Pages College Articulation Blog. It is expected that you have Chapters on JavaScript Objects, Finite State Machines using Objects, and Single Requirements Principles in Coding Methods.\n",
    "\n",
    "Perform these new investigations using the Platformer3x code base\n",
    "\n",
    "--> Game Control Code: Total ___ / 5, Grade __/1\n",
    "Starting with GameSetup you will describe the JavaScript Objects and how they are collected:\n",
    "\n",
    "1. JavaScript GameObjects to GameLevel\n",
    "2. GameLevel to and Array of GameLevels\n",
    "3. On each of the items talk about the Control \n",
    "Structure (Conditional statements or Loop statements) that assist in Game Control.\n",
    "\n",
    "- Show in code your unique GameSetup collection of JavaScript Objects, ie GameObjects. Describe how JavaScript Objects become a GameLevel.\n",
    "- Describe in code where your GameLevel is used in GameControl.\n",
    "- Describe in GameControl code where GameLoop is used, to call GameEnv method to update and draw each GameObject.\n",
    "- Show in inspect/elements how we can examine the GameObjects (canvas items) and see changes in their properties.\n",
    "- Show in code how we determine the end of level and where we transition between GameLevels.\n",
    "\n",
    "--> Class Design using DrawIO - Total __/3, Grade __/1\n",
    "Illustrate the design of GameObjects. Consider how Player, Enemy, and other Obstacles are all GameObjects.\n",
    "\n",
    "- Use DrawIO Tool to model relationships of Objects in your GameLevel (see example in design director)\n",
    "- Describe all the key attributes and methods and descendants of GameObjects in your level, divide an conquer building these with team members.\n",
    "- In your blog, consider how to illustrate DrawIO representations, inspect/runtime representations of objects, and your GameSetup code can be illustrated togethers."
   ]
  }
 ],
 "metadata": {
  "language_info": {
   "name": "python"
  }
 },
 "nbformat": 4,
 "nbformat_minor": 2
}
