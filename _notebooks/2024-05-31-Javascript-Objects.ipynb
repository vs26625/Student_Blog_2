{
 "cells": [
  {
   "cell_type": "markdown",
   "metadata": {},
   "source": [
    "---\n",
    "toc: true\n",
    "comments: true\n",
    "layout: post\n",
    "title: Javascript Objects\n",
    "description: Understanding the fundamental aspects of SASS\n",
    "permalink: articulation/objects\n",
    "courses: { csse: {week: 24} }\n",
    "---"
   ]
  },
  {
   "cell_type": "markdown",
   "metadata": {},
   "source": [
    "{% include nav_articulation.html %}"
   ]
  },
  {
   "cell_type": "markdown",
   "metadata": {},
   "source": [
    "# What is a Javascript Object?\n",
    "\n",
    "An variable that hold value (e.g name, height, color) for your game\n",
    "\n",
    "Key-value pairs -> used to store, send, or maniuplate data\n",
    "\n",
    "# Description\n",
    "\n",
    "I have been working on the backgrounds and our minigame for majority of our time. We have been expiremnenting with layers, character-to-background movement, desgining our own sprite, and coding for a functioning boss. \n",
    "\n",
    "Some of the Javascript objects we have created are our main winter level and our mini game ice level:"
   ]
  },
  {
   "cell_type": "code",
   "execution_count": null,
   "metadata": {
    "vscode": {
     "languageId": "javascript"
    }
   },
   "outputs": [],
   "source": [
    "//THIS IS WINTER LEVEL\n",
    "const objects = [\n",
    "    // GameObject(s), the order is important to z-index...\n",
    "    { name: 'winter', id: 'background', class: BackgroundParallax, data: assets.backgrounds.winter },\n",
    "    { name: 'snow', id: 'background', class: BackgroundSnow, data: assets.backgrounds.snow },\n",
    "    { name: 'snowyfloor', id: 'platform', class: Platform, data: assets.platforms.snowyfloor },\n",
    "    { name: 'blocks', id: 'jumpPlatform', class: BlockPlatform, data: assets.platforms.snowywood, xPercentage: 0.2, yPercentage: 0.82 },\n",
    "    { name: 'blocks', id: 'jumpPlatform', class: BlockPlatform, data: assets.platforms.snowywood, xPercentage: 0.2368, yPercentage: 0.82 },\n",
    "    { name: 'blocks', id: 'jumpPlatform', class: BlockPlatform, data: assets.platforms.snowywood, xPercentage: 0.2736, yPercentage: 0.82 },\n",
    "    { name: 'blocks', id: 'jumpPlatform', class: BlockPlatform, data: assets.platforms.snowywood, xPercentage: 0.3104, yPercentage: 0.82 },\n",
    "    { name: 'blocks', id: 'jumpPlatform', class: BlockPlatform, data: assets.platforms.snowywood, xPercentage: 0.3472, yPercentage: 0.82 },\n",
    "    { name: 'blocks', id: 'jumpPlatform', class: BlockPlatform, data: assets.platforms.snowywood, xPercentage: 0.384, yPercentage: 0.74 },\n",
    "    { name: 'blocks', id: 'jumpPlatform', class: BlockPlatform, data: assets.platforms.snowywood, xPercentage: 0.4208, yPercentage: 0.66 },\n",
    "    { name: 'blocks', id: 'jumpPlatform', class: BlockPlatform, data: assets.platforms.snowywood, xPercentage: 0.5090, yPercentage: 0.56 },\n",
    "    { name: 'blocks', id: 'jumpPlatform', class: BlockPlatform, data: assets.platforms.snowywood, xPercentage: 0.5090, yPercentage: 0.48 },\n",
    "    { name: 'blocks', id: 'jumpPlatform', class: BlockPlatform, data: assets.platforms.snowywood, xPercentage: 0.5090, yPercentage: 0.40 },\n",
    "    { name: 'blocks', id: 'jumpPlatform', class: BlockPlatform, data: assets.platforms.snowywood, xPercentage: 0.5090, yPercentage: 0.32 },\n",
    "    { name: 'blocks', id: 'jumpPlatform', class: BlockPlatform, data: assets.platforms.snowywood, xPercentage: 0.69, yPercentage: 0.76 },\n",
    "    { name: 'blocks', id: 'jumpPlatform', class: BlockPlatform, data: assets.platforms.snowywood, xPercentage: 0.655, yPercentage: 0.68 },\n",
    "    { name: 'blocks', id: 'jumpPlatform', class: BlockPlatform, data: assets.platforms.snowywood, xPercentage: 0.62, yPercentage: 0.68 },\n",
    "    { name: 'blocks', id: 'jumpPlatform', class: BlockPlatform, data: assets.platforms.snowywood, xPercentage: 0.72, yPercentage: 0.76 },\n",
    "    { name: 'blocks', id: 'jumpPlatform', class: BlockPlatform, data: assets.platforms.snowywood, xPercentage: 0.755, yPercentage: 1 },\n",
    "    { name: 'blocks', id: 'jumpPlatform', class: BlockPlatform, data: assets.platforms.snowywood, xPercentage: 0.755, yPercentage: 0.92 },\n",
    "    { name: 'blocks', id: 'jumpPlatform', class: BlockPlatform, data: assets.platforms.snowywood, xPercentage: 0.755, yPercentage: 0.84 },\n",
    "    { name: 'blocks', id: 'jumpPlatform', class: BlockPlatform, data: assets.platforms.snowywood, xPercentage: 0.625, yPercentage: 0.92 },\n",
    "    { name: 'blocks', id: 'jumpPlatform', class: BlockPlatform, data: assets.platforms.snowywood, xPercentage: 0.625, yPercentage: 1 },\n",
    "    { name: 'snowflake', id: 'coin', class: Coin, data: assets.obstacles.snowflake, xPercentage: 0.2100, yPercentage: 0.72 },\n",
    "    { name: 'snowflake', id: 'coin', class: Coin, data: assets.obstacles.snowflake, xPercentage: 0.2619, yPercentage: 0.72 },\n",
    "    { name: 'snowflake', id: 'coin', class: Coin, data: assets.obstacles.snowflake, xPercentage: 0.3136, yPercentage: 0.72 },\n",
    "    { name: 'owl', id: 'owl', class: Owl, data: assets.enemies.Owl, xPercentage: 0.3, minPosition: 0.05 },\n",
    "    { name: 'owl', id: 'owl', class: Owl, data: assets.enemies.Owl, xPercentage: 0.8, minPosition: 0.05 },\n",
    "    { name: 'snowman', id: 'snowman', class: Snowman, data: assets.enemies.Snowman, xPercentage: 0.2, minPosition: 0.1, difficulties: [\"normal\", \"hard\", \"impossible\"] },\n",
    "    { name: 'snowman', id: 'snowman', class: Snowman, data: assets.enemies.Snowman, xPercentage: 0.35, minPosition: 0.1, difficulties: [\"normal\", \"hard\", \"impossible\"] },\n",
    "    { name: 'snowman', id: 'snowman', class: Snowman, data: assets.enemies.Snowman, xPercentage: 0.5, minPosition: 0.1, difficulties: [\"normal\", \"hard\", \"impossible\"] },\n",
    "    { name: 'mario', id: 'player', class: PlayerWinter, data: assets.players.whitemario },\n",
    "    { name: 'cabin', id: 'finishline', class: FinishLine, data: assets.obstacles.cabin, xPercentage: 0.85, yPercentage: 0.795 },\n",
    "    { name: 'tubeU', id: 'minifinishline', class: FinishLine, data: assets.obstacles.tubeU, xPercentage: 0.675, yPercentage: 0.9 },\n",
    "    { name: 'quidditchEnd', id: 'background', class: BackgroundTransitions, data: assets.transitions.quidditchEnd },\n",
    "  ];\n",
    "\n",
    "  const GameSetterWinter = {\n",
    "    tag: 'Winter',\n",
    "    assets: assets,\n",
    "    objects: objects\n",
    "  };\n",
    "\n",
    "export default GameSetterWinter;"
   ]
  },
  {
   "cell_type": "code",
   "execution_count": null,
   "metadata": {
    "vscode": {
     "languageId": "javascript"
    }
   },
   "outputs": [],
   "source": [
    "//THIS IS ICE MINI LEVEL\n",
    "const objects = [\n",
    "  // GameObject(s), the order is important to z-index...\n",
    "  { name: 'icewater', id: 'background', class: BackgroundParallax, data: assets.backgrounds.icewater },\n",
    "  { name: 'narwhal', id: 'background', class: BackgroundParallax, data: assets.backgrounds.narwhal },\n",
    "  { name: 'narwhalfloor', id: 'platform', class: Platform, data: assets.platforms.narwhalfloor },\n",
    "  { name: 'sandstone', id: 'jumpPlatform', class: BlockPlatform, data: assets.platforms.snowywood, xPercentage: 0.2, yPercentage: 0.82 },\n",
    "  { name: 'blocks', id: 'jumpPlatform', class: BlockPlatform, data: assets.platforms.snowywood, xPercentage: 0.2368, yPercentage: 0.82 },\n",
    "  { name: 'blocks', id: 'jumpPlatform', class: BlockPlatform, data: assets.platforms.snowywood, xPercentage: 0.2736, yPercentage: 0.82 },\n",
    "  { name: 'blocks', id: 'jumpPlatform', class: BlockPlatform, data: assets.platforms.snowywood, xPercentage: 0.3104, yPercentage: 0.82 },\n",
    "  { name: 'blocks', id: 'jumpPlatform', class: BlockPlatform, data: assets.platforms.snowywood, xPercentage: 0.3472, yPercentage: 0.74 },\n",
    "  { name: 'blocks', id: 'jumpPlatform', class: BlockPlatform, data: assets.platforms.snowywood, xPercentage: 0.59, yPercentage: 0.35 },\n",
    "  { name: 'blocks', id: 'jumpPlatform', class: BlockPlatform, data: assets.platforms.snowywood, xPercentage: 0.6268, yPercentage: 0.35 },\n",
    "  { name: 'blocks', id: 'jumpPlatform', class: BlockPlatform, data: assets.platforms.snowywood, xPercentage: 0.3, yPercentage: 0.35 },\n",
    "  { name: 'blocks', id: 'jumpPlatform', class: BlockPlatform, data: assets.platforms.snowywood, xPercentage: 0.332, yPercentage: 0.35 },\n",
    "  { name: 'blocks', id: 'jumpPlatform', class: BlockPlatform, data: assets.platforms.snowywood, xPercentage: 0.3736, yPercentage: 0.6 },\n",
    "  { name: 'blocks', id: 'jumpPlatform', class: BlockPlatform, data: assets.platforms.snowywood, xPercentage: 0.4104, yPercentage: 0.6 },\n",
    "  { name: 'blocks', id: 'jumpPlatform', class: BlockPlatform, data: assets.platforms.snowywood, xPercentage: 0.4472, yPercentage: 0.6 },\n",
    "  { name: 'blocks', id: 'jumpPlatform', class: BlockPlatform, data: assets.platforms.snowywood, xPercentage: 0.484, yPercentage: 0.6 },\n",
    "  { name: 'blocks', id: 'jumpPlatform', class: BlockPlatform, data: assets.platforms.snowywood, xPercentage: 0.5208, yPercentage: 0.6 },\n",
    "  { name: 'blocks', id: 'jumpPlatform', class: BlockPlatform, data: assets.platforms.snowywood, xPercentage: 0.5576, yPercentage: 0.6 },\n",
    "  { name: 'Snowflake', id: 'coin', class: Coin, data: assets.obstacles.snowflake, xPercentage: 0.325, yPercentage: 0.25 },\n",
    "  { name: 'Snowflake', id: 'coin', class: Coin, data: assets.obstacles.snowflake, xPercentage: 0.29, yPercentage: 0.25 },\n",
    "  { name: 'Snowflake', id: 'coin', class: Coin, data: assets.obstacles.snowflake, xPercentage: 0.40, yPercentage: 0.5 },\n",
    "  { name: 'Snowflake', id: 'coin', class: Coin, data: assets.obstacles.snowflake, xPercentage: 0.42, yPercentage: 0.5 },\n",
    "  { name: 'Snowflake', id: 'coin', class: Coin, data: assets.obstacles.snowflake, xPercentage: 0.44, yPercentage: 0.5 },\n",
    "  { name: 'Snowflake', id: 'coin', class: Coin, data: assets.obstacles.snowflake, xPercentage: 0.46, yPercentage: 0.5 },\n",
    "  { name: 'Snowflake', id: 'coin', class: Coin, data: assets.obstacles.snowflake, xPercentage: 0.48, yPercentage: 0.5 },\n",
    "  { name: 'Snowflake', id: 'coin', class: Coin, data: assets.obstacles.snowflake, xPercentage: 0.5, yPercentage: 0.5 },\n",
    "  { name: 'Snowflake', id: 'coin', class: Coin, data: assets.obstacles.snowflake, xPercentage: 0.58, yPercentage: 0.25 },\n",
    "  { name: 'Snowflake', id: 'coin', class: Coin, data: assets.obstacles.snowflake, xPercentage: 0.62, yPercentage: 0.25 },\n",
    "  { name: 'jellyfish', id: 'jellyfish', class: Jellyfish, data: assets.enemies.Jellyfish, xPercentage: 0.2, minPosition: 0.05 },\n",
    "  { name: 'jellyfish', id: 'jellyfish', class: Jellyfish, data: assets.enemies.Jellyfish, xPercentage: 0.8, minPosition: 0.05 },\n",
    "  { name: 'jellyfish', id: 'jellyfish', class: Jellyfish, data: assets.enemies.Jellyfish, xPercentage: 0.4, minPosition: 0.05 },\n",
    "  { name: 'jellyfish', id: 'jellyfish', class: Jellyfish, data: assets.enemies.Jellyfish, xPercentage: 0.7, minPosition: 0.05 },\n",
    "  { name: 'penguin', id: 'penguin', class: Penguin, data: assets.enemies.Penguin, xPercentage: 0.2, minPosition: 0.1, difficulties: [\"normal\", \"hard\", \"impossible\"] },\n",
    "  { name: 'penguin', id: 'penguin', class: Penguin, data: assets.enemies.Penguin, xPercentage: 0.35, minPosition: 0.1, difficulties: [\"normal\", \"hard\", \"impossible\"] },\n",
    "  { name: 'penguin', id: 'penguin', class: Penguin, data: assets.enemies.Penguin, xPercentage: 0.5, minPosition: 0.1, difficulties: [\"normal\", \"hard\", \"impossible\"] },\n",
    "  { name: 'narwhalboss', id: 'narwhalboss', class: NarwhalBoss, data: assets.enemies.narwhalboss, xPercentage: 0.5, minPosition: 0.3 },\n",
    "  { name: 'mario', id: 'player', class: PlayerIce, data: assets.players.whitemario },\n",
    "  { name: 'tubeD', id: 'minifinishline', class: FinishLine, data: assets.obstacles.tubeD, xPercentage: 0, yPercentage: 0.0685 },\n",
    "  { name: 'iceberg', id: 'finishline', class: FinishLine, data: assets.obstacles.iceberg, xPercentage: 0.85, yPercentage: 0.82 },\n",
    "  { name: 'winterEnd', id: 'background', class: BackgroundTransitions, data: assets.transitions.winterEnd },\n",
    "];\n",
    "\n",
    "const GameSetterWinterIce = {\n",
    "  tag: 'Winter Ice',\n",
    "  assets: assets,\n",
    "  objects: objects\n",
    "};\n",
    "\n",
    "export default GameSetterWinterIce;"
   ]
  },
  {
   "cell_type": "markdown",
   "metadata": {},
   "source": [
    "These objects become a game level since they are  define the composition of different game elements for the level, in this case our winter game level. The GameLevel class uses this definition to set up and manage the game environment, creating a playable level with all the specified elements such as backgrounds, platforms, obstacles, enemies, and the player character."
   ]
  }
 ],
 "metadata": {
  "language_info": {
   "name": "python"
  }
 },
 "nbformat": 4,
 "nbformat_minor": 2
}
