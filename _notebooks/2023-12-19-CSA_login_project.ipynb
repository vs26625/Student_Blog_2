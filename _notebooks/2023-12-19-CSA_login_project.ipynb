{
 "cells": [
  {
   "cell_type": "raw",
   "metadata": {},
   "source": [
    "---\n",
    "toc: true\n",
    "comments: true\n",
    "layout: post\n",
    "title: CSA | JWT | Login Project\n",
    "description: Each individual will produce login project.  Student groups will Teach and Execute on project in a Crowdsource manner.\n",
    "courses: { csa: {week: 18} }\n",
    "type: ccc\n",
    "---"
   ]
  },
  {
   "cell_type": "markdown",
   "metadata": {},
   "source": [
    "##  Individual Requirements\n",
    "\n",
    "Each individual will develop a Login and Signup system which contains roles.  Project can be collaboritive, but it is responsiblity of individual to have FE/BE assets in their own GitHub.   Demonstration of the project will be performed on localhost.\n",
    "\n",
    "- The project will be guided by Student/Teacher lessons.  Each lesson will build upon previous lesson to ultimately create a Login and Role system.  \n",
    "\n",
    "- Individuals will be graded by Student/Teacher teams on progress. Each lesson will be worth a point.\n",
    "\n",
    "- Each assignment should be done in iterative fashiion in individual repository.   Student/Teacher teams need to review both commits (journey) and runtime at each review.\n"
   ]
  },
  {
   "cell_type": "markdown",
   "metadata": {},
   "source": [
    "## Lessons, Student/Teacher requirements.\n",
    "\n",
    "The lessons listed are the proposed order of build up.  Each Student/Teaching team will select a lesson and produce a Step-by-Step lesson.  Lessons should build upon dependencies of previous lessons where required.\n",
    "\n",
    "[Signups](https://github.com/nighthawkcoders/teacher_portfolio/issues/41#issue-2052790416)\n",
    "\n",
    "- SASS / JavaScript login and signup page. This page must be built off the GitHub Pages minima theme. The page must be set up with a framework for JavaScript methods to fetch POST requests for Login and Signup. The page should consider both success and errors (401, 403, 404) when creating JavaScript and HTML.\n",
    "\n",
    "- POST methods and Database definitions. Establish basic frontend/backend API methods to support Login/Signup. Create an anatomy lesson and drawings that explain how the frontend/backend work, including explaining the security config. Use materials from the Teacher Portfolio for the Person database. At the conclusion of this lesson, students should have a working Login/Signup system.\n",
    "\n",
    "- Roles for User / Admin user. Add to the working system by creating roles for each user (ADMIN, Teacher, User). Review current and former Teacher repositories for assistance. The teacher's recommendation is to build a Roles Table that has a many-to-many relationship with Person. This portion of the project also includes an anatomy lesson on JWT/cookie and displaying roles on GitHub Pages.\n",
    "\n",
    "- HTML / JavaScript for User Profile. Allow users to edit their profile on GitHub Pages. This portion of the project allows users to perform read and update operations on their profile. To make this interesting, add some attributes to the User Profile, for instance, the ability to turn on statistics from the GitHub API, or store their favorite Coding languages and frameworks, or make a list of friends that are in the system.\n",
    "\n",
    "- Thymeleaf. In the backend, build CRUD page(s) for Teacher and Admin roles. Using jQuery, build functionality to review and filter users (Read), build a function to edit roles for a user (Update), build functionality to remove a user (Delete), the delete must remove relationship data from the Roles table. Be sure to describe the anatomy of files and the process.\n",
    "\n",
    "- Deployment. Build a lesson that requires each user to go through deployment. This starts by creating an EC2 instance and walks them through the process of deployment. In this process, students will need to learn about Docker, dotEnv, instance directory and db, CORS, security config, DNS, Nginx, Certbot. The dotEnv process should be used to manage JWT secrets. The CORS process should discuss proper definitions to support localhost and deployment verification.\n"
   ]
  }
 ],
 "metadata": {
  "kernelspec": {
   "display_name": "Java",
   "language": "java",
   "name": "java"
  },
  "language_info": {
   "codemirror_mode": "java",
   "file_extension": ".jshell",
   "mimetype": "text/x-java-source",
   "name": "java",
   "pygments_lexer": "java",
   "version": "17.0.8.1+1-Ubuntu-0ubuntu120.04"
  }
 },
 "nbformat": 4,
 "nbformat_minor": 2
}
