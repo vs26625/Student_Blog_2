{
 "cells": [
  {
   "cell_type": "markdown",
   "metadata": {},
   "source": [
    "---\n",
    "comments: true\n",
    "layout: notebook\n",
    "title: P4 Crowdsourcing\n",
    "description: Team teach on crowdsourcing\n",
    "type: collab\n",
    "author: Ankit, William, Hao, Remy\n",
    "toc: true\n",
    "courses: { csp: {week: 16} }\n",
    "---"
   ]
  },
  {
   "cell_type": "markdown",
   "metadata": {},
   "source": [
    "## <font color = \"#0096FF\"> Learning Objective IOC-1.E: \n",
    "Explain how people participate in problem-solving processes at scale. </font>"
   ]
  },
  {
   "cell_type": "markdown",
   "metadata": {},
   "source": [
    "## <font color = \"#0096FF\"> Essential Knowledge:\n",
    "- IOC-1.E.1: Widespread access to information and public data facilitates the identification of problems, development of solutions, and dissemination of results.\n",
    "- IOC-1.E.2: Science has been affected by using distributed and \"citizen science\" to solve scientific problems.\n",
    "- IOC-1.E.3: Citizen science is scientific research conducted in whole or part by distributed individuals, many of whom may not be scientists, who contribute relevant data to research using their own computing devices.\n",
    "- IOC-1.E.4: Crowdsourcing is the practice of obtaining input or information from a large number of people via the Internet.\n",
    "- IOC-1.E.5: Human capabilites can be enhanced by collaboration via computing.\n",
    "- IOC-1.E.6: Crowdsourcing offers new models for collaboration, such as connecting businesses or social causes with funding.\n",
    "\n",
    "</font>"
   ]
  },
  {
   "cell_type": "markdown",
   "metadata": {},
   "source": [
    "# What is crowdsourcing?\n",
    "\n",
    "- **Crowdsourcing**, as an English word, can be defined as the practice of obtaining information or input into a task or project by enlisting the services of a large number of people, either paid or unpaid.\n",
    "\n",
    "    - This is typically done via the **internet**.\n",
    "    - A few examples of projects that utilize crowdsourcing are ***Wikipedia*** and ***Fiverr***, as they rely on input from internet users in order to display information or advertise independent services. Furthermore, companies like companies like ***LEGO***, ***PepsiCo***, ***Starbucks*** and ***Fisher-Price*** all utilize crowdsourcing to recieve <mark>input from their customers</mark> and <mark>create better products/enhance consumer experience</mark>.\n",
    "\n",
    "<img src=\"/home/ankitp/vscode/binary_logic_project/images/crowdsourcing.jpg\" alt=\"Crowdsourcing\" width=\"1050\" height=\"550\">"
   ]
  },
  {
   "cell_type": "markdown",
   "metadata": {},
   "source": [
    "## <font color = \"#00A36C\"> Popcorn Hack 1 </font>\n",
    "\n",
    "<font color = \"00A36C\"> Q: Name another example of a project or company that could use crowdsourcing, and why. The example can be hypothetical or an already existing project/company.</font>\n",
    "\n",
    "Enter your answer here:"
   ]
  },
  {
   "cell_type": "markdown",
   "metadata": {},
   "source": [
    "# Public Data Sets\n",
    "- <strong>Public data sets</strong> are defined as public data organized around a theme or topic that are generally accessible to the public (usually in an online format).\n",
    "    - <font color = \"#0096FF\"> This relates to <strong>IOC-1.E.1</strong>: Widespread access to information and public data sets faciliates the identification of problems, development of solutions, and dissemination of results. </font>\n",
    "\n",
    "### Examples of public data sets:\n",
    "- <mark>Kaggle</mark>:\n",
    "    - Courses in visualization, TensorFlow, AI, machine learning, and more!\n",
    "    - Competitions - cash prizes, swag, props\n",
    "    - Notebooks - code, data, notes\n",
    "- <mark>Google Public Datasets</mark>:\n",
    "    - Free for the 1st terabyte\n",
    "    - All-in-one package that uses BigQuery - Library and toolset that for SQL\n",
    "- <mark>Data.gov</mark>:\n",
    "    - US Government data\n",
    "    - Agriculture, energy, water, health\n",
    "- <mark>Your local government</mark>:\n",
    "    - Keeps them accountable\n",
    "    - Help find solutions and trends in your area"
   ]
  },
  {
   "cell_type": "markdown",
   "metadata": {},
   "source": [
    "# Distributed Computing\n",
    "### Donate spare computing power to help calculations! 😀\n",
    "- Literally! According to Amazon Web Services (AWS), <strong>distributed computing</strong> can be defined as the method of making multiple computers work together to solve a common problem. A few examples can be seen below:\n",
    "    - <mark>Folding@Home - Stanford University</mark>:\n",
    "        - <mark>Protein folding</mark>: Proteins are long chains of amino acids, and they tend to fold a certain way. But sometimes, they can fold the wrong way, leading to problems like cancer, Alzheimer's disease and Huntington's disease. To help fight this, project Folding@Home sends bits to volunteers' computers all around the world to distribute the computing power and increase processing efficiency. This came with the PlayStation 3 back in the day.\n",
    "    - <mark>BOINC - University of California, Berkeley</mark>:\n",
    "        - <mark>A variety of projects</mark>: Mathematics, astrophysics, climate, and Minecraft@Home.\n",
    "    \n",
    "    - There are many other examples of distributed computing in the world, but these are the more popular ones.\n",
    "\n",
    "<font color = \"#0096FF\">CollegeBoard learning objectives:\n",
    "- IOC-1.E.2: Science has been affected by using distributed and \"citizen science\" to solve scientific problems.\n",
    "- IOC-1.E.3: Citizen science is scientific research conducted in whole or part by distributed individuals, many of whom may not be scientists, who contribute relevant data to research using their own computing devices.\n",
    "- IOC-1.E.5: Human capabilites can be enhanced by collaboration via computing.</font>"
   ]
  },
  {
   "cell_type": "markdown",
   "metadata": {},
   "source": [
    "<img src=\"/home/ankitp/vscode/binary_logic_project/images/minecraft.jpg\" alt=\"Crowdsourcing\" width=\"1050\" height=\"550\">"
   ]
  },
  {
   "cell_type": "markdown",
   "metadata": {},
   "source": [
    "## <font color = \"#00A36C\"> Popcorn Hack 2\n",
    "Q: Based on the examples provided above, what other heavy tasks can distributed computing be used for? Write your answer in the space provided.</font><br><br>\n",
    "Enter your answer here:"
   ]
  },
  {
   "cell_type": "markdown",
   "metadata": {},
   "source": [
    "# Innovations made possible with crowdsourcing\n",
    "- <mark>Spotify</mark>: \n",
    "    - Collaborative playlists\n",
    "    - User data-based music algorithm (one of the better ones out there)\n",
    "    - Metadata write-in (write descriptions for songs that are peer-approved - similar to Wikipedia in a way)\n",
    "\n",
    "- <mark>Crowdfunding</mark>:\n",
    "    - Kickstarter - You can pitch an idea on the platform; people can donate money to help develop your idea or create your product\n",
    "    - IndieGoGo - More for non-profit, philanthropic programs\n",
    "    - Patreon - One of the most popular subscription-based funding programs to help creators/developers with their journey\n",
    "    - GoFundMe - One more example of a popular website where you can donate money for a good cause\n",
    "\n",
    "- <mark>Blockchain</mark>:\n",
    "    - Mainly used as a cryptocurrency wallet\n",
    "    - It can be used for securing things like concert tickets as well - done through a decentralized computing network (every computer is doing their part to ensure that each block in the chain is secure relative to the ones before and after it)\n",
    "\n",
    "<font color = \"#0096FF\">CollegeBoard learning objectives:\n",
    "- IOC-1.E.4: Crowdsourcing is the practice of obtaining input or information from a large number of people via the Internet.\n",
    "- IOC-1.E.6: Crowdsourcing offers new models for collaboration, such as connecting businesses or social causes with funding.</font>"
   ]
  },
  {
   "cell_type": "markdown",
   "metadata": {},
   "source": [
    "# <font color = \"#FFD700\">Homework - with a twist!\n",
    "\n",
    "Debate: Ethics of crowdsourcing - Positives and negatives of crowdsourcing</font>"
   ]
  }
 ],
 "metadata": {
  "language_info": {
   "name": "python"
  }
 },
 "nbformat": 4,
 "nbformat_minor": 2
}
