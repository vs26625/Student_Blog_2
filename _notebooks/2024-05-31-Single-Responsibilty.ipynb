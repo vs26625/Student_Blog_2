{
 "cells": [
  {
   "cell_type": "markdown",
   "metadata": {},
   "source": [
    "---\n",
    "toc: true\n",
    "comments: true\n",
    "layout: post\n",
    "title: Javascript Objects\n",
    "description: Understanding the fundamental aspects of SASS\n",
    "permalink: articulation/single\n",
    "courses: { csse: {week: 24} }\n",
    "---"
   ]
  },
  {
   "cell_type": "markdown",
   "metadata": {},
   "source": [
    "{% include nav_articulation.html %}"
   ]
  },
  {
   "cell_type": "markdown",
   "metadata": {},
   "source": [
    "For our narwhal boss, I used single responisbility for the interactions between the Narwhal and the Player in our minigame. These interactions use single responsibility for its collision and for its updates when put in the game loop."
   ]
  },
  {
   "cell_type": "code",
   "execution_count": null,
   "metadata": {
    "vscode": {
     "languageId": "javascript"
    }
   },
   "outputs": [],
   "source": [
    "// THIS CODE IS FOR PlayerIce TO INTERACT WITH THE NarwhalBoss\n",
    "case \"narwhalboss\": // Note: Goomba.js and Player.js could be refactored\n",
    "                // 1. Player jumps on goomba, interaction with Goomba.js\n",
    "                if (this.collisionData.touchPoints.this.top && this.collisionData.touchPoints.other.bottom && this.state.isDying == false) {\n",
    "                    // GoombaBounce deals with player.js and goomba.js\n",
    "                    if (GameEnv.goombaBounce === true) {\n",
    "                        GameEnv.goombaBounce = false;\n",
    "                        this.y = -10;\n",
    "                    }\n",
    "                    if (GameEnv.goombaBounce1 === true) {\n",
    "                        GameEnv.goombaBounce1 = false;\n",
    "                        this.y = -25;\n",
    "                    }\n",
    "                    // 2. Player touches goomba sides of goomba\n",
    "                } else if (this.collisionData.touchPoints.this.right || this.collisionData.touchPoints.this.left) {\n",
    "                    if (GameEnv.difficulty === \"normal\" || GameEnv.difficulty === \"hard\") {\n",
    "                        if (this.state.isDying == false) {\n",
    "                            this.state.isDying = true;\n",
    "                            this.canvas.style.transition = \"transform 0.5s\";\n",
    "                            this.canvas.style.transform = \"rotate(-90deg) translate(-26px, 0%)\";\n",
    "                            GameEnv.playSound(\"PlayerDeath\");\n",
    "                            setTimeout(async () => {\n",
    "                                await GameControl.transitionToLevel(GameEnv.levels[GameEnv.levels.indexOf(GameEnv.currentLevel)]);\n",
    "                            }, 900);\n",
    "                        }\n",
    "                    } else if (GameEnv.difficulty === \"easy\" && this.collisionData.touchPoints.this.right) {\n",
    "                        this.x -= 10;\n",
    "                    } else if (GameEnv.difficulty === \"easy\" && this.collisionData.touchPoints.this.left) {\n",
    "                        this.x += 10;\n",
    "                    }\n",
    "                }\n",
    "                break;"
   ]
  },
  {
   "cell_type": "code",
   "execution_count": null,
   "metadata": {
    "vscode": {
     "languageId": "javascript"
    }
   },
   "outputs": [],
   "source": [
    "// THIS CODE IS FOR NarwhalBoss TO INTERACT WITH THE PlayerIce\n",
    "updateMovement() {\n",
    "    if (this.state.animation === \"right\") {\n",
    "        this.speed = Math.abs(this.storeSpeed);\n",
    "    } else if (this.state.animation === \"left\") {\n",
    "        this.speed = -Math.abs(this.storeSpeed);\n",
    "    } else {\n",
    "        this.speed = 0;\n",
    "    }\n",
    "    this.x += this.speed;\n",
    "    this.playerBottomCollision = false;\n",
    "}\n",
    "\n",
    "update() {\n",
    "    super.update();\n",
    "    this.hpBar.updateHpBar(this.currentHp, this.x, this.y, this.canvasWidth, this.canvasHeight);\n",
    "}"
   ]
  },
  {
   "cell_type": "markdown",
   "metadata": {},
   "source": [
    "For single responsibilty, we used mainly\n",
    "1. \"this.collisionData...\"\n",
    "    - Handles collsion touch-points with the player and the narwhal boss\n",
    "        - When narwhal should kill player\n",
    "        - When player should kill narwhal\n",
    "2. \"update...\"\n",
    "    - Used to update each frame after ___ happens\n",
    "        - EX: hP bar; used to update hP bar after the player attacks the narwhal\n"
   ]
  }
 ],
 "metadata": {
  "language_info": {
   "name": "python"
  }
 },
 "nbformat": 4,
 "nbformat_minor": 2
}
