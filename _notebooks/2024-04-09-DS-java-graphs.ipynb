{
 "cells": [
  {
   "attachments": {},
   "cell_type": "markdown",
   "metadata": {},
   "source": [
    "\n",
    "---\n",
    "title: Graph Data Structure\n",
    "comments: true\n",
    "layout: post\n",
    "description: Overview of the Graph Data Structure.\n",
    "author: John Mortensen\n",
    "type: ccc\n",
    "courses: { csa: {week: 29} }\n",
    "---\n",
    "\n",
    "\n",
    "# Graph Data Structure\n",
    ">   \n",
    "\n",
    "- toc: true\n",
    "- categories: []\n",
    "- image: /images/java-icon.png\n",
    "- type: ap\n",
    "- week: 34"
   ]
  },
  {
   "attachments": {},
   "cell_type": "markdown",
   "metadata": {},
   "source": [
    "## Terms\n",
    "Node, Vertices, Edge, Adjacency, Weighted, Directed, Breadth, Depth\n"
   ]
  },
  {
   "attachments": {},
   "cell_type": "markdown",
   "metadata": {},
   "source": [
    "## Supporting Data Structures\n",
    "Class, List, Stack, Queue"
   ]
  }
 ],
 "metadata": {
  "kernelspec": {
   "display_name": "Java",
   "language": "java",
   "name": "java"
  },
  "language_info": {
   "name": "java"
  },
  "orig_nbformat": 4
 },
 "nbformat": 4,
 "nbformat_minor": 2
}
